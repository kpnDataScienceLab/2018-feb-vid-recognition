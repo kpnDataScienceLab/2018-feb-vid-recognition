{
 "cells": [
  {
   "cell_type": "code",
   "execution_count": 1,
   "metadata": {
    "collapsed": true
   },
   "outputs": [],
   "source": [
    "import tensorflow as tf\n",
    "\n",
    "# Verify gpu installation \n",
    "sess = tf.Session(config=tf.ConfigProto(log_device_placement=True))"
   ]
  },
  {
   "cell_type": "code",
   "execution_count": 2,
   "metadata": {
    "collapsed": true
   },
   "outputs": [],
   "source": [
    "import numpy as np\n",
    "import os\n",
    "import six.moves.urllib as urllib\n",
    "import sys\n",
    "import tarfile\n",
    "import tensorflow as tf\n",
    "import zipfile\n",
    "\n",
    "from collections import defaultdict\n",
    "from io import StringIO\n",
    "from matplotlib import pyplot as plt\n",
    "from PIL import Image\n",
    "\n",
    "with open('config.json') as config_file:\n",
    "    config = json.load(config_file)\n",
    "\n",
    "if tf.__version__ < '1.4.0':\n",
    "  raise ImportError('Please upgrade your tensorflow installation to v1.4.* or later!')"
   ]
  },
  {
   "cell_type": "code",
   "execution_count": 3,
   "metadata": {
    "collapsed": true
   },
   "outputs": [],
   "source": [
    "# This is needed to display the images.\n",
    "%matplotlib inline\n",
    "\n",
    "# This is needed since the notebook is stored in the object_detection folder.\n",
    "sys.path.append(\"../models/research/object_detection/\")\n",
    "sys.path.append(\"../models/research/\")"
   ]
  },
  {
   "cell_type": "code",
   "execution_count": 4,
   "metadata": {
    "collapsed": true
   },
   "outputs": [],
   "source": [
    "from utils import label_map_util\n",
    "\n",
    "from utils import visualization_utils as vis_util"
   ]
  },
  {
   "cell_type": "code",
   "execution_count": 12,
   "metadata": {
    "collapsed": true
   },
   "outputs": [],
   "source": [
    "# What model to download.\n",
    "MODEL_NAME = 'ssd_mobilenet_v1_coco_2017_11_17'\n",
    "MODEL_FILE = MODEL_NAME + '.tar.gz'\n",
    "DOWNLOAD_BASE = 'http://download.tensorflow.org/models/object_detection/'\n",
    "\n",
    "\n",
    "# Path to frozen detection graph. This is the actual model that is used for the object detection.\n",
    "PATH_TO_CKPT = MODEL_NAME + '/frozen_inference_graph.pb'\n",
    "\n",
    "# List of the strings that is used to add correct label for each box.\n",
    "PATH_TO_LABELS = os.path.join(config['labels_path'], 'mscoco_label_map.pbtxt')\n",
    "\n",
    "NUM_CLASSES = 90"
   ]
  },
  {
   "cell_type": "code",
   "execution_count": 13,
   "metadata": {},
   "outputs": [],
   "source": [
    "opener = urllib.request.URLopener()\n",
    "opener.retrieve(DOWNLOAD_BASE + MODEL_FILE, MODEL_FILE)\n",
    "tar_file = tarfile.open(MODEL_FILE)\n",
    "for file in tar_file.getmembers():\n",
    "  file_name = os.path.basename(file.name)\n",
    "  if 'frozen_inference_graph.pb' in file_name:\n",
    "    tar_file.extract(file, os.getcwd())"
   ]
  },
  {
   "cell_type": "code",
   "execution_count": 14,
   "metadata": {
    "collapsed": true
   },
   "outputs": [],
   "source": [
    "detection_graph = tf.Graph()\n",
    "with detection_graph.as_default():\n",
    "  od_graph_def = tf.GraphDef()\n",
    "  with tf.gfile.GFile(PATH_TO_CKPT, 'rb') as fid:\n",
    "    serialized_graph = fid.read()\n",
    "    od_graph_def.ParseFromString(serialized_graph)\n",
    "    tf.import_graph_def(od_graph_def, name='')"
   ]
  },
  {
   "cell_type": "code",
   "execution_count": 15,
   "metadata": {},
   "outputs": [],
   "source": [
    "label_map = label_map_util.load_labelmap(PATH_TO_LABELS)\n",
    "categories = label_map_util.convert_label_map_to_categories(label_map, max_num_classes=NUM_CLASSES, use_display_name=True)\n",
    "category_index = label_map_util.create_category_index(categories)"
   ]
  },
  {
   "cell_type": "code",
   "execution_count": 16,
   "metadata": {},
   "outputs": [],
   "source": [
    "def load_image_into_numpy_array(image):\n",
    "  (im_width, im_height) = image.size\n",
    "  return np.array(image.getdata()).reshape(\n",
    "      (im_height, im_width, 3)).astype(np.uint8)"
   ]
  },
  {
   "cell_type": "code",
   "execution_count": 17,
   "metadata": {},
   "outputs": [],
   "source": [
    "# If you want to test the code with your images, just add path to the images to the TEST_IMAGE_PATHS.\n",
    "PATH_TO_TEST_IMAGES_DIR = config['images']\n",
    "TEST_IMAGE_PATHS = [ os.path.join(PATH_TO_TEST_IMAGES_DIR, 'image{}.jpg'.format(i)) for i in range(1, 3) ]\n",
    "\n",
    "# Size, in inches, of the output images.\n",
    "IMAGE_SIZE = (12, 8)"
   ]
  },
  {
   "cell_type": "code",
   "execution_count": 121,
   "metadata": {},
   "outputs": [],
   "source": [
    "with detection_graph.as_default():\n",
    "  with tf.Session(graph=detection_graph) as sess:\n",
    "    # Definite input and output Tensors for detection_graph\n",
    "    image_tensor = detection_graph.get_tensor_by_name('image_tensor:0')\n",
    "    # Each box represents a part of the image where a particular object was detected.\n",
    "    detection_boxes = detection_graph.get_tensor_by_name('detection_boxes:0')\n",
    "    # Each score represent how level of confidence for each of the objects.\n",
    "    # Score is shown on the result image, together with the class label.\n",
    "    detection_scores = detection_graph.get_tensor_by_name('detection_scores:0')\n",
    "    detection_classes = detection_graph.get_tensor_by_name('detection_classes:0')\n",
    "    num_detections = detection_graph.get_tensor_by_name('num_detections:0')\n",
    "    dd = []\n",
    "    for idx, image_path in enumerate(TEST_IMAGE_PATHS):\n",
    "      image = Image.open(image_path)\n",
    "      # the array based representation of the image will be used later in order to prepare the\n",
    "      # result image with boxes and labels on it.\n",
    "      image_np = load_image_into_numpy_array(image)\n",
    "      # Expand dimensions since the model expects images to have shape: [1, None, None, 3]\n",
    "      image_np_expanded = np.expand_dims(image_np, axis=0)\n",
    "      # Actual detection.\n",
    "        \n",
    "      (boxes, scores, classes, num) = sess.run(\n",
    "          [detection_boxes, detection_scores, detection_classes, num_detections],\n",
    "          feed_dict={image_tensor: image_np_expanded})\n",
    "      dd.append((boxes, scores, classes, num))\n"
   ]
  },
  {
   "cell_type": "code",
   "execution_count": 122,
   "metadata": {
    "collapsed": true
   },
   "outputs": [],
   "source": [
    "def size_from_coord(coordinates):\n",
    "    return (coordinates[2]-coordinates[0])*(coordinates[3]-coordinates[1])"
   ]
  },
  {
   "cell_type": "code",
   "execution_count": 131,
   "metadata": {},
   "outputs": [
    {
     "name": "stdout",
     "output_type": "stream",
     "text": [
      "Frame nr: 0\n",
      "{'id': 1, 'name': 'person'} size: 0.171408\n",
      "{'id': 1, 'name': 'person'} size: 0.118742\n",
      "{'id': 1, 'name': 'person'} size: 0.301364\n",
      "{'id': 1, 'name': 'person'} size: 0.0464675\n",
      "{'id': 1, 'name': 'person'} size: 0.0226882\n",
      "{'id': 1, 'name': 'person'} size: 0.178394\n",
      "{'id': 1, 'name': 'person'} size: 0.109241\n",
      "{'id': 1, 'name': 'person'} size: 0.045574\n",
      "{'id': 1, 'name': 'person'} size: 0.0289998\n",
      "{'id': 1, 'name': 'person'} size: 0.00754463\n",
      "{'id': 1, 'name': 'person'} size: 0.194544\n",
      "{'id': 1, 'name': 'person'} size: 0.00826654\n",
      "{'id': 1, 'name': 'person'} size: 0.0077421\n",
      "{'id': 1, 'name': 'person'} size: 0.0846545\n",
      "{'id': 1, 'name': 'person'} size: 0.0360675\n",
      "{'id': 1, 'name': 'person'} size: 0.0391597\n",
      "{'id': 1, 'name': 'person'} size: 0.00599588\n",
      "{'id': 1, 'name': 'person'} size: 0.15138\n",
      "{'id': 1, 'name': 'person'} size: 0.535799\n",
      "{'id': 1, 'name': 'person'} size: 0.0365451\n",
      "{'id': 1, 'name': 'person'} size: 0.0231249\n",
      "{'id': 1, 'name': 'person'} size: 0.0496068\n",
      "{'id': 1, 'name': 'person'} size: 0.017364\n",
      "{'id': 1, 'name': 'person'} size: 0.11327\n",
      "{'id': 1, 'name': 'person'} size: 0.00475159\n",
      "{'id': 1, 'name': 'person'} size: 0.00547603\n",
      "{'id': 1, 'name': 'person'} size: 0.0765337\n",
      "{'id': 1, 'name': 'person'} size: 0.0541824\n",
      "{'id': 1, 'name': 'person'} size: 0.00882578\n",
      "{'id': 1, 'name': 'person'} size: 0.0358187\n",
      "{'id': 1, 'name': 'person'} size: 0.00985154\n",
      "{'id': 1, 'name': 'person'} size: 0.0459036\n",
      "Frame nr: 1\n",
      "{'id': 1, 'name': 'person'} size: 0.171408\n",
      "{'id': 1, 'name': 'person'} size: 0.118742\n",
      "{'id': 1, 'name': 'person'} size: 0.301364\n",
      "{'id': 1, 'name': 'person'} size: 0.0464675\n",
      "{'id': 1, 'name': 'person'} size: 0.0226882\n",
      "{'id': 1, 'name': 'person'} size: 0.178394\n",
      "{'id': 1, 'name': 'person'} size: 0.109241\n",
      "{'id': 1, 'name': 'person'} size: 0.045574\n",
      "{'id': 1, 'name': 'person'} size: 0.0289998\n",
      "{'id': 1, 'name': 'person'} size: 0.00754463\n",
      "{'id': 1, 'name': 'person'} size: 0.194544\n",
      "{'id': 1, 'name': 'person'} size: 0.00826654\n",
      "{'id': 1, 'name': 'person'} size: 0.0077421\n",
      "{'id': 1, 'name': 'person'} size: 0.0846545\n",
      "{'id': 1, 'name': 'person'} size: 0.0360675\n",
      "{'id': 1, 'name': 'person'} size: 0.0391597\n",
      "{'id': 1, 'name': 'person'} size: 0.00599588\n",
      "{'id': 28, 'name': 'umbrella'} size: 0.15138\n",
      "{'id': 1, 'name': 'person'} size: 0.535799\n",
      "{'id': 1, 'name': 'person'} size: 0.0365451\n",
      "{'id': 1, 'name': 'person'} size: 0.0231249\n",
      "{'id': 27, 'name': 'backpack'} size: 0.0496068\n",
      "{'id': 1, 'name': 'person'} size: 0.017364\n",
      "{'id': 1, 'name': 'person'} size: 0.11327\n",
      "{'id': 1, 'name': 'person'} size: 0.00475159\n",
      "{'id': 1, 'name': 'person'} size: 0.00547603\n",
      "{'id': 28, 'name': 'umbrella'} size: 0.0765337\n",
      "{'id': 1, 'name': 'person'} size: 0.0541824\n",
      "{'id': 32, 'name': 'tie'} size: 0.00882578\n",
      "{'id': 1, 'name': 'person'} size: 0.0358187\n",
      "{'id': 1, 'name': 'person'} size: 0.00985154\n",
      "{'id': 27, 'name': 'backpack'} size: 0.0459036\n",
      "{'id': 1, 'name': 'person'} size: 0.0266792\n",
      "{'id': 28, 'name': 'umbrella'} size: 0.396076\n",
      "{'id': 32, 'name': 'tie'} size: 0.0227731\n",
      "{'id': 1, 'name': 'person'} size: 0.048796\n",
      "{'id': 62, 'name': 'chair'} size: 0.0650688\n",
      "{'id': 1, 'name': 'person'} size: 0.0568204\n",
      "{'id': 1, 'name': 'person'} size: 0.116093\n",
      "{'id': 1, 'name': 'person'} size: 0.0282033\n",
      "{'id': 28, 'name': 'umbrella'} size: 0.358441\n",
      "{'id': 1, 'name': 'person'} size: 0.259486\n",
      "{'id': 1, 'name': 'person'} size: 0.0500186\n",
      "{'id': 28, 'name': 'umbrella'} size: 0.0270261\n",
      "{'id': 28, 'name': 'umbrella'} size: 0.036789\n",
      "{'id': 1, 'name': 'person'} size: 0.195456\n",
      "{'id': 1, 'name': 'person'} size: 0.0755119\n",
      "{'id': 1, 'name': 'person'} size: 0.051895\n",
      "{'id': 32, 'name': 'tie'} size: 0.00410254\n",
      "{'id': 1, 'name': 'person'} size: 0.0811867\n",
      "{'id': 1, 'name': 'person'} size: 0.0808479\n",
      "{'id': 1, 'name': 'person'} size: 0.0379019\n",
      "{'id': 1, 'name': 'person'} size: 0.0416724\n"
     ]
    }
   ],
   "source": [
    "import pandas as pd \n",
    "sizes = [size_from_coord(coord) for coord in boxes[0]]\n",
    "\n",
    "percentage_dictionary = {}\n",
    "\n",
    "for fn, frame in enumerate(dd):\n",
    "    boxes, scores, classes, num = dd[fn]\n",
    "    print(\"Frame nr: \" + str(fn))\n",
    "    for idx, score in enumerate(scores[0]):\n",
    "        if score > 0.7:\n",
    "            class_nr = int(classes[0][idx])\n",
    "            item = category_index[class_nr]\n",
    "            #print(str(item) + \" size: \" + str(sizes[idx]))\n",
    "            if str(class_nr) in percentage_dictionary:\n",
    "                percentage_dictionary[str(class_nr)] += sizes[idx]\n",
    "            else: \n",
    "                percentage_dictionary[str(class_nr)] = sizes[idx]"
   ]
  },
  {
   "cell_type": "code",
   "execution_count": 138,
   "metadata": {},
   "outputs": [],
   "source": [
    "for i in range(1,91):\n",
    "    if str(i) not in percentage_dictionary:\n",
    "        percentage_dictionary[str(i)] = 0"
   ]
  },
  {
   "cell_type": "code",
   "execution_count": 150,
   "metadata": {},
   "outputs": [],
   "source": [
    "int_docs_info = {int(k) : v for k, v in percentage_dictionary.items()}\n",
    "new_dict={}\n",
    "for key, value in sorted(int_docs_info.items()): # Note the () after items!\n",
    "    new_dict[key]=value"
   ]
  },
  {
   "cell_type": "code",
   "execution_count": 155,
   "metadata": {},
   "outputs": [],
   "source": [
    "import csv\n",
    "\n",
    "with open('movie_data.csv', 'a') as myfile:\n",
    "    wr = csv.writer(myfile)\n",
    "    wr.writerow(list(new_dict.values()))"
   ]
  },
  {
   "cell_type": "code",
   "execution_count": null,
   "metadata": {
    "collapsed": true
   },
   "outputs": [],
   "source": []
  }
 ],
 "metadata": {
  "kernelspec": {
   "display_name": "tensorflow",
   "language": "python",
   "name": "tensorflow"
  },
  "language_info": {
   "codemirror_mode": {
    "name": "ipython",
    "version": 3
   },
   "file_extension": ".py",
   "mimetype": "text/x-python",
   "name": "python",
   "nbconvert_exporter": "python",
   "pygments_lexer": "ipython3",
   "version": "3.6.2"
  },
  "nbTranslate": {
   "displayLangs": [
    "en",
    "nl"
   ],
   "hotkey": "alt-t",
   "langInMainMenu": true,
   "sourceLang": "nl",
   "targetLang": "en",
   "useGoogleTranslate": true
  },
  "varInspector": {
   "cols": {
    "lenName": 16,
    "lenType": 16,
    "lenVar": 40
   },
   "kernels_config": {
    "python": {
     "delete_cmd_postfix": "",
     "delete_cmd_prefix": "del ",
     "library": "var_list.py",
     "varRefreshCmd": "print(var_dic_list())"
    },
    "r": {
     "delete_cmd_postfix": ") ",
     "delete_cmd_prefix": "rm(",
     "library": "var_list.r",
     "varRefreshCmd": "cat(var_dic_list()) "
    }
   },
   "types_to_exclude": [
    "module",
    "function",
    "builtin_function_or_method",
    "instance",
    "_Feature"
   ],
   "window_display": false
  }
 },
 "nbformat": 4,
 "nbformat_minor": 2
}
