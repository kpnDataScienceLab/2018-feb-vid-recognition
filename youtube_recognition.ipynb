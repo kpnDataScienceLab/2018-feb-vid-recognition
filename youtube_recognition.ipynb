{
 "cells": [
  {
   "cell_type": "code",
   "execution_count": 1,
   "metadata": {
    "collapsed": true
   },
   "outputs": [],
   "source": [
    "import tensorflow as tf\n",
    "\n",
    "# Verify gpu installation \n",
    "sess = tf.Session(config=tf.ConfigProto(log_device_placement=True))"
   ]
  },
  {
   "cell_type": "code",
   "execution_count": 46,
   "metadata": {
    "collapsed": true
   },
   "outputs": [],
   "source": [
    "import numpy as np\n",
    "import os\n",
    "import six.moves.urllib as urllib\n",
    "import sys\n",
    "import tarfile\n",
    "import tensorflow as tf\n",
    "import zipfile\n",
    "import pandas as pd \n",
    "from collections import defaultdict\n",
    "from io import StringIO\n",
    "from matplotlib import pyplot as plt\n",
    "from PIL import Image\n",
    "import csv\n",
    "\n",
    "with open('config.json') as config_file:\n",
    "    config = json.load(config_file)\n",
    "\n",
    "if tf.__version__ < '1.4.0':\n",
    "  raise ImportError('Please upgrade your tensorflow installation to v1.4.* or later!')"
   ]
  },
  {
   "cell_type": "code",
   "execution_count": 3,
   "metadata": {
    "collapsed": true
   },
   "outputs": [],
   "source": [
    "# This is needed to display the images.\n",
    "%matplotlib inline\n",
    "\n",
    "# This is needed since the notebook is stored in the object_detection folder.\n",
    "sys.path.append(\"../models/research/object_detection/\")\n",
    "sys.path.append(\"../models/research/\")"
   ]
  },
  {
   "cell_type": "code",
   "execution_count": 4,
   "metadata": {
    "collapsed": true
   },
   "outputs": [],
   "source": [
    "from utils import label_map_util\n",
    "\n",
    "from utils import visualization_utils as vis_util"
   ]
  },
  {
   "cell_type": "code",
   "execution_count": 5,
   "metadata": {
    "collapsed": true
   },
   "outputs": [],
   "source": [
    "# What model to download.\n",
    "MODEL_NAME = 'ssd_mobilenet_v1_coco_2017_11_17'\n",
    "MODEL_FILE = MODEL_NAME + '.tar.gz'\n",
    "DOWNLOAD_BASE = 'http://download.tensorflow.org/models/object_detection/'\n",
    "\n",
    "\n",
    "# Path to frozen detection graph. This is the actual model that is used for the object detection.\n",
    "PATH_TO_CKPT = MODEL_NAME + '/frozen_inference_graph.pb'\n",
    "\n",
    "# List of the strings that is used to add correct label for each box.\n",
    "PATH_TO_LABELS = os.path.join(config['labels_path'], 'mscoco_label_map.pbtxt')\n",
    "\n",
    "NUM_CLASSES = 90"
   ]
  },
  {
   "cell_type": "code",
   "execution_count": 6,
   "metadata": {
    "collapsed": true
   },
   "outputs": [],
   "source": [
    "opener = urllib.request.URLopener()\n",
    "opener.retrieve(DOWNLOAD_BASE + MODEL_FILE, MODEL_FILE)\n",
    "tar_file = tarfile.open(MODEL_FILE)\n",
    "for file in tar_file.getmembers():\n",
    "  file_name = os.path.basename(file.name)\n",
    "  if 'frozen_inference_graph.pb' in file_name:\n",
    "    tar_file.extract(file, os.getcwd())"
   ]
  },
  {
   "cell_type": "code",
   "execution_count": 7,
   "metadata": {
    "collapsed": true
   },
   "outputs": [],
   "source": [
    "detection_graph = tf.Graph()\n",
    "with detection_graph.as_default():\n",
    "  od_graph_def = tf.GraphDef()\n",
    "  with tf.gfile.GFile(PATH_TO_CKPT, 'rb') as fid:\n",
    "    serialized_graph = fid.read()\n",
    "    od_graph_def.ParseFromString(serialized_graph)\n",
    "    tf.import_graph_def(od_graph_def, name='')"
   ]
  },
  {
   "cell_type": "code",
   "execution_count": 8,
   "metadata": {
    "collapsed": true
   },
   "outputs": [],
   "source": [
    "label_map = label_map_util.load_labelmap(PATH_TO_LABELS)\n",
    "categories = label_map_util.convert_label_map_to_categories(label_map, max_num_classes=NUM_CLASSES, use_display_name=True)\n",
    "category_index = label_map_util.create_category_index(categories)"
   ]
  },
  {
   "cell_type": "code",
   "execution_count": 21,
   "metadata": {
    "collapsed": true
   },
   "outputs": [],
   "source": [
    "def load_image_into_numpy_array(image):\n",
    "  (im_width, im_height) = image.size\n",
    "  return np.array(image.getdata()).reshape(\n",
    "      (im_height, im_width, 3)).astype(np.uint8)\n",
    "\n",
    "def size_from_coord(coordinates):\n",
    "    return (coordinates[2]-coordinates[0])*(coordinates[3]-coordinates[1])"
   ]
  },
  {
   "cell_type": "code",
   "execution_count": null,
   "metadata": {
    "collapsed": true
   },
   "outputs": [],
   "source": [
    "# If you want to test the code with your images, just add path to the images to the TEST_IMAGE_PATHS.\n",
    "PATH_TO_TEST_IMAGES_DIR = config['images']\n",
    "dirs = []\n",
    "for item in os.listdir(PATH_TO_TEST_IMAGES_DIR):\n",
    "    if not os.path.isfile(os.path.join(PATH_TO_TEST_IMAGES_DIR, item)):\n",
    "        dirs.append(PATH_TO_TEST_IMAGES_DIR + \"/\" + item)\n",
    "\n",
    "for category_number, pathdir in enumerate(dirs):\n",
    "    print(str(category_number) + \": \" + pathdir)\n",
    "    subdirs = [pathdir + \"/\" + f for f in os.listdir(pathdir) if os.path.isdir(os.path.join(pathdir, f))]\n",
    "    for subdir in subdirs:\n",
    "        TEST_IMAGE_PATHS = [f for f in os.listdir(subdir) if os.path.isfile(os.path.join(subdir, f))]\n",
    "        TEST_IMAGE_PATHS = [subdir + \"/\" + file for file in sorted(TEST_IMAGE_PATHS)]\n",
    "\n",
    "        # Size, in inches, of the output images.\n",
    "        IMAGE_SIZE = (12, 8)\n",
    "\n",
    "        with detection_graph.as_default():\n",
    "          with tf.Session(graph=detection_graph) as sess:\n",
    "            # Definite input and output Tensors for detection_graph\n",
    "            image_tensor = detection_graph.get_tensor_by_name('image_tensor:0')\n",
    "            # Each box represents a part of the image where a particular object was detected.\n",
    "            detection_boxes = detection_graph.get_tensor_by_name('detection_boxes:0')\n",
    "            # Each score represent how level of confidence for each of the objects.\n",
    "            # Score is shown on the result image, together with the class label.\n",
    "            detection_scores = detection_graph.get_tensor_by_name('detection_scores:0')\n",
    "            detection_classes = detection_graph.get_tensor_by_name('detection_classes:0')\n",
    "            num_detections = detection_graph.get_tensor_by_name('num_detections:0')\n",
    "            dd = []\n",
    "            for idx, image_path in enumerate(TEST_IMAGE_PATHS):\n",
    "              image = Image.open(image_path)\n",
    "              # the array based representation of the image will be used later in order to prepare the\n",
    "              # result image with boxes and labels on it.\n",
    "              image_np = load_image_into_numpy_array(image)\n",
    "              # Expand dimensions since the model expects images to have shape: [1, None, None, 3]\n",
    "              image_np_expanded = np.expand_dims(image_np, axis=0)\n",
    "              # Actual detection.\n",
    "\n",
    "              (boxes, scores, classes, num) = sess.run(\n",
    "                  [detection_boxes, detection_scores, detection_classes, num_detections],\n",
    "                  feed_dict={image_tensor: image_np_expanded})\n",
    "              dd.append((boxes, scores, classes, num))\n",
    "\n",
    "\n",
    "        sizes = [size_from_coord(coord) for coord in boxes[0]]\n",
    "\n",
    "        percentage_dictionary = {}\n",
    "\n",
    "        for fn, frame in enumerate(dd):\n",
    "            boxes, scores, classes, num = dd[fn]\n",
    "            print(\"Frame nr: \" + str(fn) + \" (\" + subdir + \")\")\n",
    "            for idx, score in enumerate(scores[0]):\n",
    "                if score > 0.1:\n",
    "                    class_nr = int(classes[0][idx])\n",
    "                    item = category_index[class_nr]\n",
    "                    #print(str(item) + \" size: \" + str(sizes[idx]))\n",
    "                    if str(class_nr) in percentage_dictionary:\n",
    "                        percentage_dictionary[str(class_nr)] += sizes[idx]\n",
    "                    else: \n",
    "                        percentage_dictionary[str(class_nr)] = sizes[idx]\n",
    "        #print(percentage_dictionary)\n",
    "\n",
    "        for i in range(1,91):\n",
    "            if str(i) not in percentage_dictionary:\n",
    "                percentage_dictionary[str(i)] = 0\n",
    "\n",
    "        int_docs_info = {int(k) : v for k, v in percentage_dictionary.items()}\n",
    "        new_dict={}\n",
    "        for key, value in sorted(int_docs_info.items()): # Note the () after items!\n",
    "            new_dict[key]=value\n",
    "\n",
    "        with open('movie_data.csv', 'a') as myfile:\n",
    "            wr = csv.writer(myfile)\n",
    "            valueslist = list(new_dict.values())\n",
    "            valueslist.append(category_number)\n",
    "            wr.writerow(valueslist)"
   ]
  },
  {
   "cell_type": "code",
   "execution_count": 98,
   "metadata": {},
   "outputs": [
    {
     "data": {
      "text/plain": [
       "['/home/khala501/data/ads/actuals/telco',\n",
       " '/home/khala501/data/ads/actuals/fashion',\n",
       " '/home/khala501/data/ads/actuals/fastfood',\n",
       " '/home/khala501/data/ads/actuals/fragrance',\n",
       " '/home/khala501/data/ads/actuals/cars',\n",
       " '/home/khala501/data/ads/actuals/alcoholic_beverages',\n",
       " '/home/khala501/data/ads/actuals/finance',\n",
       " '/home/khala501/data/ads/actuals/supermarket',\n",
       " '/home/khala501/data/ads/actuals/beverages',\n",
       " '/home/khala501/data/ads/actuals/vacation']"
      ]
     },
     "execution_count": 98,
     "metadata": {},
     "output_type": "execute_result"
    }
   ],
   "source": [
    "dirs"
   ]
  },
  {
   "cell_type": "code",
   "execution_count": 106,
   "metadata": {
    "scrolled": true
   },
   "outputs": [
    {
     "name": "stdout",
     "output_type": "stream",
     "text": [
      "0: /home/khala501/data/ads/actuals/telco\n",
      "71\n",
      "51\n",
      "51\n",
      "131\n",
      "1: /home/khala501/data/ads/actuals/fashion\n",
      "41\n",
      "61\n",
      "79\n",
      "61\n",
      "2: /home/khala501/data/ads/actuals/fastfood\n",
      "61\n",
      "61\n",
      "51\n",
      "61\n",
      "3: /home/khala501/data/ads/actuals/fragrance\n",
      "61\n",
      "61\n",
      "91\n",
      "65\n",
      "4: /home/khala501/data/ads/actuals/cars\n",
      "96\n",
      "81\n",
      "51\n",
      "95\n",
      "5: /home/khala501/data/ads/actuals/alcoholic_beverages\n",
      "171\n",
      "71\n",
      "81\n",
      "91\n",
      "6: /home/khala501/data/ads/actuals/finance\n",
      "71\n",
      "55\n",
      "71\n",
      "81\n",
      "7: /home/khala501/data/ads/actuals/supermarket\n",
      "91\n",
      "61\n",
      "82\n",
      "93\n",
      "8: /home/khala501/data/ads/actuals/beverages\n",
      "61\n",
      "52\n",
      "91\n",
      "121\n",
      "9: /home/khala501/data/ads/actuals/vacation\n",
      "61\n",
      "85\n",
      "61\n",
      "41\n"
     ]
    }
   ],
   "source": [
    "for category_number, pathdir in enumerate(dirs):\n",
    "    print(str(category_number) + \": \" + pathdir)\n",
    "    subdirs = [pathdir + \"/\" + f for f in os.listdir(pathdir) if os.path.isdir(os.path.join(pathdir, f))]\n",
    "    for subdir in subdirs:\n",
    "        amountfiles = len([name for name in os.listdir(subdir)])\n",
    "        print(str(amountfiles))"
   ]
  },
  {
   "cell_type": "code",
   "execution_count": null,
   "metadata": {
    "collapsed": true
   },
   "outputs": [],
   "source": []
  }
 ],
 "metadata": {
  "kernelspec": {
   "display_name": "tensorflow",
   "language": "python",
   "name": "tensorflow"
  },
  "language_info": {
   "codemirror_mode": {
    "name": "ipython",
    "version": 3
   },
   "file_extension": ".py",
   "mimetype": "text/x-python",
   "name": "python",
   "nbconvert_exporter": "python",
   "pygments_lexer": "ipython3",
   "version": "3.6.2"
  },
  "nbTranslate": {
   "displayLangs": [
    "en",
    "nl"
   ],
   "hotkey": "alt-t",
   "langInMainMenu": true,
   "sourceLang": "nl",
   "targetLang": "en",
   "useGoogleTranslate": true
  },
  "varInspector": {
   "cols": {
    "lenName": 16,
    "lenType": 16,
    "lenVar": 40
   },
   "kernels_config": {
    "python": {
     "delete_cmd_postfix": "",
     "delete_cmd_prefix": "del ",
     "library": "var_list.py",
     "varRefreshCmd": "print(var_dic_list())"
    },
    "r": {
     "delete_cmd_postfix": ") ",
     "delete_cmd_prefix": "rm(",
     "library": "var_list.r",
     "varRefreshCmd": "cat(var_dic_list()) "
    }
   },
   "types_to_exclude": [
    "module",
    "function",
    "builtin_function_or_method",
    "instance",
    "_Feature"
   ],
   "window_display": false
  }
 },
 "nbformat": 4,
 "nbformat_minor": 2
}
